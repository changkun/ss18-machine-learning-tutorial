{
 "cells": [
  {
   "cell_type": "markdown",
   "metadata": {},
   "source": [
    "# Machine Learning - SS18\n",
    "\n",
    "* Lecturer: Prof. Dr. Volker Tresp\n",
    "* Assistants: Julian Busch, Christian Frey\n",
    "* Tutor: Changkun Ou"
   ]
  },
  {
   "cell_type": "markdown",
   "metadata": {},
   "source": [
    "## Before Start\n",
    "\n",
    "- I am always assume you already read the assignment\n",
    "- Feel free to ask me any related questions, let's discuss it together\n",
    "- Feel free to interrupt me any time if you find my mistakes or too fast\n",
    "- Don't be too quiet, we will get boring\n",
    "\n",
    "## 2nd Tutorial - 04/19/18"
   ]
  },
  {
   "cell_type": "markdown",
   "metadata": {},
   "source": [
    "## Class of Halfspaces\n",
    "\n",
    "In the lecture, we have already discussed the hypothesis class of halfspaces. They are designed for binary classification problems, i.e., we have a design matrix $\\mathcal{X} \\in \\mathbb{R}^d$ and a set of labels $\\mathcal{Y}=\\{-1, 1\\}$. The class of halfspaces is defined as follows:\n",
    "\n",
    "$$\n",
    "HS_d = sign \\circ L_d = \\{x \\mapsto sign(h_{w,b}(x)): h_{w,b} \\in L_{d}\\}\n",
    "$$\n",
    "\n",
    "with $h_{w,b}(x) = \\langle w, x \\rangle + b$, $b \\in \\mathbb{R}$ and $L_d$ being the class of affine functions $L_d = \\{h_{w,b}: w \\in \\mathbb{R}^d, b \\in \\mathbb{R}\\}$.\n",
    "\n",
    "A convenient way is to **incorporate the bias $b$ into $w$ as an extra coordinate and add an extra coordinate with a value of $1$** to all $x \\in X$, i.e., $w' = (b, w_1, w_2, \\ldots, w_d) \\in \\mathbb{R}^{d+1}$ and $x' = (1, x_1, x_2, \\ldots, x_d) \\in \\mathbb{R}^{d+1}$ "
   ]
  },
  {
   "cell_type": "markdown",
   "metadata": {},
   "source": [
    "## Perceptron\n",
    "\n",
    "The activation function of the Perceptron is a sum of weighted inputs:\n",
    "\n",
    "$$\n",
    "\\sum_{j=1}^{M} w_j x_j\n",
    "$$\n",
    "\n",
    "The **binary classification $y \\in \\{-1, 1\\}$** is calculated as $\\hat{y} = \\textbf{sign}(h)$. The linear separating hyperplane is defined by $h(x) = 0$. The bias $b$ determines the class when all inputs are zero.\n",
    "\n",
    "The Perceptron is an iterative algorithm that constructs a sequence of vectors $w^{(1)}, w^{(2)}, \\ldots$. Initially, $w^{(1)}$ is set to be the all-zeros vector. At iteration $t$, the Perceptron finds an example $i$ that is mislabeled by $w^{t}$, namely, an example for which $\\textbf{sign}(\\langle w^{(t)}, x_i \\rangle) \\neq y_i$. Then, the perceptron updates $w^{t}$ by adding to it the instance $x_i$ scaled by the label $y_i$ and a learning parameter $\\eta$.\n",
    "\n",
    "### Perceptron Learning rule\n",
    "To learn a separating hyperplane, we need a learning rule to find optimal parameters for the weighting vector $w$ and the bias $b$. In the native perceptron learning rule, one presents randomly selected currently misslcassified patterns and adapts with only the current selected pattern. Let $x_t$ and $y_t$ be the training pattern in the $t$-th step. One adapts $t=1,2, \\ldots$\n",
    "\n",
    "$$\n",
    "w_{j} \\leftarrow w_j + \\eta y_t x_{t,j}\n",
    "$$\n",
    "\n",
    "A weight increases, when (postsynaptic) $y_t$ and (presynaptic) $x_{t,j}$ have the same sign; different signs lead to a weight decrease.\n",
    "\n",
    "### TASKS\n",
    "+ write a class $\\textit{Perceptron}$\n",
    "+ in the __init__ method, initialize variables necessary for the Perceptron model\n",
    "+ in the train(X,Y) method, we train the Perceptron according to the dataset and labels attached as parameters. If the number of iterations exceed a predefined maximal number of iterations, we say that the Perceptron could not identify a separating hyperplane. In each iteration, we check for misclassified datapoints, i.e., where $sign(\\langle w^{(t)}, x_i \\rangle) \\neq y_i$ does not hold. If we have found a missclassified point, we adapt the weight vector $w$ according to the perceptron learning rule $w_{j} \\leftarrow w_j + \\eta y_t x_{t,j}$. If all points are classified correctly, the learning procedure is finished and the vector $w$ describes our weighting vector, our model.  \n"
   ]
  },
  {
   "cell_type": "code",
   "execution_count": 52,
   "metadata": {},
   "outputs": [],
   "source": [
    "import numpy as np\n",
    "import random as rnd\n",
    "import matplotlib.pyplot as plt\n",
    "%matplotlib inline"
   ]
  },
  {
   "cell_type": "code",
   "execution_count": 53,
   "metadata": {},
   "outputs": [],
   "source": [
    "class Perceptron(object):\n",
    "    \"\"\"\n",
    "    Perceptron Classifier.\n",
    "    \n",
    "    Parameter\n",
    "    ---------\n",
    "    eta : float\n",
    "        Learning rate (between 0..0 and 1.0)\n",
    "    max_iter : int\n",
    "        Passes (epochs) over the training set.\n",
    "    \n",
    "    Attributes\n",
    "    ---------\n",
    "    w : 1d-array\n",
    "        Weights after fitting.\n",
    "    eta: float\n",
    "        Learning rate\n",
    "    max_iter: int\n",
    "        maximal number of iterations\n",
    "    \"\"\"\n",
    "    \n",
    "    def __init__(self, eta=0.1, max_iter=1000):\n",
    "        self.eta = eta\n",
    "        self.max_iter = max_iter\n",
    "        self.weights = None\n",
    "        self.inter_weights = []\n",
    "        \n",
    "    def train (self, X, Y):\n",
    "        '''\n",
    "        Training method for data.\n",
    "        \n",
    "        Parameters\n",
    "        ----------\n",
    "        X : Training vectors\n",
    "        y : Target values\n",
    "            \n",
    "        Returns\n",
    "        -------\n",
    "        w_ : 1d-array; Weights after fitting.\n",
    "        '''\n",
    "        (n_samples, n_features) = X.shape\n",
    "        self.weights = np.random.rand(n_features+1, 1)\n",
    "        X = np.c_[np.ones((n_samples, 1)), X]\n",
    "\n",
    "        Y_hat = np.sign(np.dot(X, self.weights))\n",
    "        for iteration in range(0, self.max_iter):\n",
    "            if np.array_equal(Y, Y_hat):\n",
    "                break\n",
    "            for sample in range(0, n_samples):\n",
    "                if Y[sample] != Y_hat[sample]:\n",
    "                    self.weights += self.eta * Y[sample] * X[sample][:, np.newaxis]\n",
    "                    self.inter_weights.append(np.copy(self.weights))\n",
    "                    Y_hat = np.sign(np.dot(X, self.weights))\n",
    "        return self.weights"
   ]
  },
  {
   "cell_type": "markdown",
   "metadata": {},
   "source": [
    "### TASKS\n",
    "Having defined our Perceptron and our learning procedure, we will use synthesized data to learn the model. Hence,\n",
    "+ define a procedure to create $n$ datapoints.\n",
    "+ Each datapoint $x_i$ has $dim$ features.\n",
    "+ To do so, we will define each feature to be selected randomly in the interval [-1,1]"
   ]
  },
  {
   "cell_type": "code",
   "execution_count": 54,
   "metadata": {},
   "outputs": [],
   "source": [
    "def generate_data(n, dim):\n",
    "    '''\n",
    "    Generating training data.\n",
    "        \n",
    "    Parameters\n",
    "    ----------\n",
    "    n : the number of samples \n",
    "    dim: number of features.\n",
    "\n",
    "    Returns\n",
    "    -------\n",
    "    X : training vectors\n",
    "    '''\n",
    "    X1 = np.random.rand(n//2, dim) - 1\n",
    "    X2 = np.random.rand(n - n//2, dim)\n",
    "    X = np.r_[X1, X2]\n",
    "\n",
    "    Y1 = np.zeros((n - n//2, 1)) - 1\n",
    "    Y2 = np.ones((n//2, 1))\n",
    "    Y = np.r_[Y1, Y2]\n",
    "    return X, Y"
   ]
  },
  {
   "cell_type": "markdown",
   "metadata": {},
   "source": [
    "### TASKS\n",
    "Let's define a function to plot our dataset and linear separating hyplane in the two-dimensional case. As parameters, we attach the dataset, the labels and and instance of our learned perceptron model. With the labels at hand, we can use different markers for the two classes $\\{-1,1\\}$.\n",
    "(hint: use marker=\"x\" or marker=\"o\" to have dots or X as markers. If you want, you can in addition define different colors for the classes)"
   ]
  },
  {
   "cell_type": "code",
   "execution_count": 55,
   "metadata": {},
   "outputs": [],
   "source": [
    "def plot2D(X, Y, p):\n",
    "    '''\n",
    "    Plots the data points and the separating hyperplane in the two dimensional case\n",
    "    \n",
    "    Parameters\n",
    "    ----------\n",
    "    X: matrix containing the data points\n",
    "    Y: label of the data points\n",
    "    p: instance of trained perceptron model\n",
    "    '''\n",
    "    plt.figure()\n",
    "    plt.scatter(X[:, 0], X[:, 1], c=Y.flatten())\n",
    "    \n",
    "    inter_weights = p.inter_weights\n",
    "    for index, weights in enumerate(inter_weights):\n",
    "        a = - weights[1] / weights[2]\n",
    "        b = - weights[0] / weights[2]\n",
    "        x = [-1, 1]\n",
    "        y = [a*e+b for e in x]\n",
    "        if index == len(inter_weights) - 1:\n",
    "            plt.plot(x, y, 'r-')\n",
    "        else:\n",
    "            plt.plot(x, y, 'b--')\n",
    "    plt.show()"
   ]
  },
  {
   "cell_type": "code",
   "execution_count": 56,
   "metadata": {},
   "outputs": [
    {
     "data": {
      "image/png": "[encoded data removed]",
      "text/plain": [
       "<Figure size 432x288 with 1 Axes>"
      ]
     },
     "metadata": {},
     "output_type": "display_data"
    }
   ],
   "source": [
    "X, Y = generate_data(10, 2)\n",
    "\n",
    "p = Perceptron()\n",
    "p.train(X, Y)\n",
    "\n",
    "plot2D(X, Y, p)"
   ]
  },
  {
   "cell_type": "code",
   "execution_count": null,
   "metadata": {},
   "outputs": [],
   "source": []
  },
  {
   "cell_type": "code",
   "execution_count": null,
   "metadata": {},
   "outputs": [],
   "source": []
  },
  {
   "cell_type": "code",
   "execution_count": null,
   "metadata": {},
   "outputs": [],
   "source": []
  },
  {
   "cell_type": "code",
   "execution_count": null,
   "metadata": {},
   "outputs": [],
   "source": []
  },
  {
   "cell_type": "code",
   "execution_count": null,
   "metadata": {},
   "outputs": [],
   "source": []
  },
  {
   "cell_type": "markdown",
   "metadata": {},
   "source": [
    "## Extra Contents"
   ]
  },
  {
   "cell_type": "code",
   "execution_count": 57,
   "metadata": {},
   "outputs": [],
   "source": [
    "# prepare for data\n",
    "one = [\n",
    "    [0,1,0],\n",
    "    [0,1,0],\n",
    "    [0,1,0],\n",
    "    [0,1,0],\n",
    "    [0,1,0]\n",
    "]\n",
    "two = [\n",
    "    [1,1,1],\n",
    "    [0,0,1],\n",
    "    [1,1,1],\n",
    "    [1,0,0],\n",
    "    [1,1,1]\n",
    "]\n",
    "three = [\n",
    "    [1,1,1],\n",
    "    [0,0,1],\n",
    "    [0,1,1],\n",
    "    [0,0,1],\n",
    "    [1,1,1]\n",
    "]\n",
    "four = [\n",
    "    [1,0,1],\n",
    "    [1,0,1],\n",
    "    [1,1,1],\n",
    "    [0,0,1],\n",
    "    [0,0,1]\n",
    "]\n",
    "five = [\n",
    "    [1,1,1],\n",
    "    [1,0,0],\n",
    "    [1,1,1],\n",
    "    [0,0,1],\n",
    "    [1,1,1]\n",
    "]\n",
    "six = [\n",
    "    [1,1,1],\n",
    "    [1,0,0],\n",
    "    [1,1,1],\n",
    "    [1,0,1],\n",
    "    [1,1,1]\n",
    "]\n",
    "seven = [\n",
    "    [1,1,1],\n",
    "    [0,0,1],\n",
    "    [0,0,1],\n",
    "    [0,0,1],\n",
    "    [0,0,1]\n",
    "]\n",
    "eight = [\n",
    "    [1,1,1],\n",
    "    [1,0,1],\n",
    "    [1,1,1],\n",
    "    [1,0,1],\n",
    "    [1,1,1]\n",
    "]\n",
    "nine = [\n",
    "    [1,1,1],\n",
    "    [1,0,1],\n",
    "    [1,1,1],\n",
    "    [0,0,1],\n",
    "    [1,1,1]\n",
    "]\n",
    "zero = [\n",
    "    [1,1,1],\n",
    "    [1,0,1],\n",
    "    [1,0,1],\n",
    "    [1,0,1],\n",
    "    [1,1,1]\n",
    "]\n",
    "numbers = [one, two, three, four, five, six, seven, eight, nine, zero]"
   ]
  },
  {
   "cell_type": "code",
   "execution_count": 58,
   "metadata": {},
   "outputs": [
    {
     "data": {
      "image/png": "[encoded data removed]",
      "text/plain": [
       "<Figure size 432x288 with 10 Axes>"
      ]
     },
     "metadata": {},
     "output_type": "display_data"
    }
   ],
   "source": [
    "# convert numbers to numpy array\n",
    "np_numbers = [np.array(element, dtype=float) for element in numbers]\n",
    "\n",
    "# print all number via plt.imshow method\n",
    "fig = plt.figure(0)\n",
    "for index in range(0, 10):\n",
    "    plt.subplot2grid((2, 5), (int(index / 5), index%5))\n",
    "    plt.imshow(np_numbers[index-1], cmap='binary')\n",
    "plt.show()"
   ]
  },
  {
   "cell_type": "code",
   "execution_count": 59,
   "metadata": {},
   "outputs": [
    {
     "data": {
      "image/png": "[encoded data removed]",
      "text/plain": [
       "<Figure size 432x288 with 1 Axes>"
      ]
     },
     "metadata": {},
     "output_type": "display_data"
    }
   ],
   "source": [
    "# Flatten all number into one matrix\n",
    "\n",
    "data = np.array([np.array(element, float).flatten() for element in numbers], float)\n",
    "targets = [f\"{x % 10}\" for x in range(1, 11)]\n",
    "\n",
    "fig, ax = plt.subplots()\n",
    "img = ax.imshow(data, cmap='binary')\n",
    "ax.set_yticks(np.arange(len(targets)))\n",
    "ax.set_yticklabels(targets)\n",
    "ax.get_xaxis().set_visible(False)\n",
    "plt.show()"
   ]
  },
  {
   "cell_type": "code",
   "execution_count": null,
   "metadata": {},
   "outputs": [],
   "source": []
  },
  {
   "cell_type": "code",
   "execution_count": null,
   "metadata": {},
   "outputs": [],
   "source": []
  },
  {
   "cell_type": "code",
   "execution_count": null,
   "metadata": {},
   "outputs": [],
   "source": []
  }
 ],
 "metadata": {
  "kernelspec": {
   "display_name": "Python 3",
   "language": "python",
   "name": "python3"
  },
  "language_info": {
   "codemirror_mode": {
    "name": "ipython",
    "version": 3
   },
   "file_extension": ".py",
   "mimetype": "text/x-python",
   "name": "python",
   "nbconvert_exporter": "python",
   "pygments_lexer": "ipython3",
   "version": "3.6.3"
  }
 },
 "nbformat": 4,
 "nbformat_minor": 2
}
